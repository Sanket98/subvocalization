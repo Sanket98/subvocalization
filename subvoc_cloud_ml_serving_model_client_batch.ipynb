{
 "cells": [
  {
   "cell_type": "code",
   "execution_count": 10,
   "metadata": {},
   "outputs": [],
   "source": [
    "import os\n",
    "from sys import getsizeof\n",
    "import tensorflow as tf\n",
    "import base64\n",
    "import numpy as np\n",
    "from googleapiclient import discovery\n",
    "from oauth2client.service_account import ServiceAccountCredentials"
   ]
  },
  {
   "cell_type": "code",
   "execution_count": 2,
   "metadata": {},
   "outputs": [],
   "source": [
    "TFR_TEST = 'test.tfrecord'\n",
    "BUCKET = 'gs://robolab/'\n",
    "\n",
    "NUM_CLASSES = 2\n",
    "\n",
    "IMG_HEIGHT = 80\n",
    "IMG_WIDTH = 71"
   ]
  },
  {
   "cell_type": "code",
   "execution_count": 3,
   "metadata": {},
   "outputs": [],
   "source": [
    "def predict_json(project, model, key, instances, version=None):\n",
    "    \"\"\"Send json data to a deployed model for prediction.\n",
    "\n",
    "    Args:\n",
    "        project (str): project where the Cloud ML Engine Model is deployed.\n",
    "        model (str): model name.\n",
    "        instances ([Mapping[str: Any]]): Keys should be the names of Tensors\n",
    "            your deployed model expects as inputs. Values should be datatypes\n",
    "            convertible to Tensors, or (potentially nested) lists of datatypes\n",
    "            convertible to tensors.\n",
    "        key: private key with credentials\n",
    "        version: str, version of the model to target.\n",
    "    Returns:\n",
    "        Mapping[str: any]: dictionary of prediction results defined by the\n",
    "            model.\n",
    "    \"\"\"\n",
    "    \n",
    "    scopes = ['https://www.googleapis.com/auth/cloud-platform']\n",
    "    credentials = ServiceAccountCredentials.from_json_keyfile_name(key, scopes=scopes)\n",
    "    service = discovery.build('ml', 'v1', credentials=credentials)\n",
    "    name = 'projects/{}/models/{}'.format(project, model)\n",
    "\n",
    "    if version is not None:\n",
    "        name += '/versions/{}'.format(version)\n",
    "\n",
    "    response = service.projects().predict(\n",
    "        name=name,\n",
    "        body={'instances': instances}\n",
    "    ).execute()\n",
    "\n",
    "    if 'error' in response:\n",
    "        raise RuntimeError(response['error'])\n",
    "\n",
    "    return response['predictions']"
   ]
  },
  {
   "cell_type": "code",
   "execution_count": 71,
   "metadata": {},
   "outputs": [],
   "source": [
    "def get_image_id(serialized_example):\n",
    "\n",
    "    features = tf.parse_single_example(\n",
    "        serialized_example,\n",
    "        features={'image_raw': tf.FixedLenFeature([], tf.string),\n",
    "                  'image_id': tf.FixedLenFeature([], tf.string)})\n",
    "    \n",
    "    return features['image_id']"
   ]
  },
  {
   "cell_type": "code",
   "execution_count": 72,
   "metadata": {},
   "outputs": [],
   "source": [
    "# on free GCP trials HTTP payload size is limited to 1.5 MB\n",
    "# batch size would depend on number of tf.Examples used\n",
    "# so we do batch of 10 examples only\n",
    "instances = []\n",
    "image_id_tensors = []\n",
    "preds = []\n",
    "\n",
    "record_iterator = tf.python_io.tf_record_iterator(path=BUCKET + TFR_TEST)\n",
    "\n",
    "i = 0\n",
    "for string_record in record_iterator:\n",
    "    \n",
    "    image_id_tensors.append(get_image_id(string_record))\n",
    "    \n",
    "    if i > 10:\n",
    "        break\n",
    "    i += 1\n",
    "    \n",
    "    data = base64.b64encode(string_record).decode('utf-8')\n",
    "    instances.append({\"b64\": data})"
   ]
  },
  {
   "cell_type": "code",
   "execution_count": 73,
   "metadata": {},
   "outputs": [],
   "source": [
    "preds = predict_json(\n",
    "    'psyched-timer-223917',\n",
    "    'subvoc',\n",
    "    'private_key.json',\n",
    "    instances,\n",
    "    version=None)"
   ]
  },
  {
   "cell_type": "code",
   "execution_count": 76,
   "metadata": {},
   "outputs": [],
   "source": [
    "with tf.Session() as sess:\n",
    "     image_ids = sess.run(image_id_tensors)"
   ]
  },
  {
   "cell_type": "code",
   "execution_count": 87,
   "metadata": {},
   "outputs": [
    {
     "name": "stdout",
     "output_type": "stream",
     "text": [
      "id: ZM5JX5MM, label: 1, probs: [0.012, 0.988]\n",
      "id: WSR9JCDZ, label: 0, probs: [0.983, 0.017]\n",
      "id: 3HZI0I41, label: 0, probs: [0.956, 0.044]\n",
      "id: BU9XBHAC, label: 0, probs: [0.563, 0.437]\n",
      "id: 4GF4OKQY, label: 0, probs: [0.971, 0.029]\n",
      "id: X3WKUXRT, label: 1, probs: [0.038, 0.962]\n",
      "id: Y88KZ0TJ, label: 0, probs: [0.967, 0.033]\n",
      "id: 4OSS97LG, label: 1, probs: [0.078, 0.922]\n",
      "id: WE2RASCM, label: 0, probs: [0.902, 0.098]\n",
      "id: QA3FJR5F, label: 0, probs: [0.990, 0.010]\n",
      "id: QDL3OILK, label: 0, probs: [0.981, 0.019]\n"
     ]
    }
   ],
   "source": [
    "for image_id, pred in zip(image_ids, preds):\n",
    "    image_id = image_id.decode('utf-8')\n",
    "    print('id: {}, label: {}, probs: [{:.3f}, {:.3f}]'.format(\n",
    "        image_id, pred['classes'], pred['probabilities'][0], pred['probabilities'][1]))"
   ]
  },
  {
   "cell_type": "code",
   "execution_count": null,
   "metadata": {},
   "outputs": [],
   "source": []
  }
 ],
 "metadata": {
  "kernelspec": {
   "display_name": "Python 3",
   "language": "python",
   "name": "python3"
  },
  "language_info": {
   "codemirror_mode": {
    "name": "ipython",
    "version": 3
   },
   "file_extension": ".py",
   "mimetype": "text/x-python",
   "name": "python",
   "nbconvert_exporter": "python",
   "pygments_lexer": "ipython3",
   "version": "3.6.6"
  }
 },
 "nbformat": 4,
 "nbformat_minor": 2
}
