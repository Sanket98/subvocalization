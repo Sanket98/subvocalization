{
 "cells": [
  {
   "cell_type": "code",
   "execution_count": 15,
   "metadata": {},
   "outputs": [],
   "source": [
    "import os\n",
    "import timeit\n",
    "import tensorflow as tf\n",
    "from tensorflow.python.lib.io import file_io\n",
    "from matplotlib import pyplot as plt\n",
    "from matplotlib import colors\n",
    "import numpy as np\n",
    "from collections import defaultdict\n",
    "from collections import Counter\n",
    "from random import shuffle\n",
    "from scipy import signal\n",
    "from scipy import fftpack\n",
    "from scipy.io import wavfile\n",
    "from scipy import interpolate \n",
    "\n",
    "import pandas as pd"
   ]
  },
  {
   "cell_type": "code",
   "execution_count": 2,
   "metadata": {},
   "outputs": [],
   "source": [
    "tf.logging.set_verbosity(tf.logging.ERROR)"
   ]
  },
  {
   "cell_type": "code",
   "execution_count": 3,
   "metadata": {},
   "outputs": [
    {
     "name": "stdout",
     "output_type": "stream",
     "text": [
      "one  two\n",
      "ch1  ch2  ch3  ch4  ch5  ch6  ch7  ch8\n"
     ]
    }
   ],
   "source": [
    "!ls train\n",
    "!ls train/one"
   ]
  },
  {
   "cell_type": "markdown",
   "metadata": {},
   "source": [
    "### Set variables"
   ]
  },
  {
   "cell_type": "code",
   "execution_count": 4,
   "metadata": {},
   "outputs": [],
   "source": [
    "train_paths = ['train', 'train_2','train_3']\n",
    "test_path = 'test_data'\n",
    "label_paths = ['one', 'two']\n",
    "channel_paths = ['ch1', 'ch2', 'ch3', 'ch4']\n",
    "\n",
    "enum_labels = {'one': 0, 'two': 1}"
   ]
  },
  {
   "cell_type": "markdown",
   "metadata": {},
   "source": [
    "### Set global variables"
   ]
  },
  {
   "cell_type": "code",
   "execution_count": 5,
   "metadata": {},
   "outputs": [],
   "source": [
    "TFR_TRAIN = 'train.tfrecord'\n",
    "TFR_VALID = 'valid.tfrecord'\n",
    "TFR_TEST = 'test.tfrecord'\n",
    "BUCKET = 'gs://robolab/'\n",
    "\n",
    "NUM_CLASSES = 2\n",
    "\n",
    "IMG_HEIGHT = 160\n",
    "IMG_WIDTH = 113\n",
    "IMG_CHAN = 4\n",
    "\n",
    "SPEC_SHAPE = (IMG_HEIGHT, IMG_WIDTH, IMG_CHAN)"
   ]
  },
  {
   "cell_type": "markdown",
   "metadata": {},
   "source": [
    "### Log spectrogram function"
   ]
  },
  {
   "cell_type": "code",
   "execution_count": 6,
   "metadata": {},
   "outputs": [],
   "source": [
    "# nperseg - samples per segment\n",
    "# noverlap - number of overlapping samples\n",
    "# high nperseg results in high frequency resolution, but low time resolution, and vice versa\n",
    "\n",
    "def log_spectrogram(wav,\n",
    "                    sample_rate=8000,\n",
    "                    crop=None,\n",
    "                    nfft=None,\n",
    "                    nperseg=128,\n",
    "                    noverlap=None,\n",
    "                    eps=1e-10,\n",
    "                    spec_only=True):\n",
    "    \n",
    "    # remove DC offset\n",
    "    wav = wav - np.mean(wav)\n",
    "    \n",
    "    # normalize length\n",
    "    wav = crop_and_pad(wav, sample_rate)\n",
    "    \n",
    "    freqs, times, spectro = signal.spectrogram(wav,\n",
    "                                               fs=sample_rate,\n",
    "                                               window='hann',\n",
    "                                               noverlap=noverlap,\n",
    "                                               nperseg=nperseg,\n",
    "                                               nfft=None,\n",
    "                                               detrend=False)\n",
    "    \n",
    "    if spec_only:\n",
    "        return np.log(spectro.astype(np.float32) + eps)\n",
    "    else:\n",
    "        return freqs, times, np.log(spectro.astype(np.float32) + eps)"
   ]
  },
  {
   "cell_type": "markdown",
   "metadata": {},
   "source": [
    "### Wavelet length normalizer"
   ]
  },
  {
   "cell_type": "code",
   "execution_count": 7,
   "metadata": {},
   "outputs": [],
   "source": [
    "# crop if longer, pad if shorter than sampling frequency (fs)\n",
    "\n",
    "def crop_and_pad(wav, fs):\n",
    "    \n",
    "    if len(wav) < fs:\n",
    "\n",
    "        pad_front = (fs - len(wav)) // 2\n",
    "        pad_end = (fs - len(wav)) - pad_front\n",
    "\n",
    "        wav = np.concatenate(\n",
    "            (np.random.rand(pad_front,) * 10, wav, np.random.rand(pad_end,) * 10), axis=0)\n",
    "\n",
    "    elif len(wav) > fs:\n",
    "        wav = wav[:fs]\n",
    "        \n",
    "    return wav"
   ]
  },
  {
   "cell_type": "markdown",
   "metadata": {},
   "source": [
    "### Phase spectrogram function"
   ]
  },
  {
   "cell_type": "code",
   "execution_count": 8,
   "metadata": {},
   "outputs": [],
   "source": [
    "# get phase spectrogram\n",
    "\n",
    "def phase_spectrogram(wav,\n",
    "                    sample_rate=8000,\n",
    "                    crop=None,\n",
    "                    nfft=None,\n",
    "                    nperseg=128,\n",
    "                    noverlap=None,\n",
    "                    eps=1e-10,\n",
    "                    spec_only=True):\n",
    "    \n",
    "    # remove DC\n",
    "    wav = wav - np.mean(wav)\n",
    "    \n",
    "    # normalize length\n",
    "    wav = crop_and_pad(wav, sample_rate)\n",
    "    \n",
    "    freqs, times, spectro = signal.spectrogram(wav,\n",
    "                                               fs=sample_rate,\n",
    "                                               window='hann',\n",
    "                                               noverlap=noverlap,\n",
    "                                               nperseg=nperseg,\n",
    "                                               mode='phase', # get phase spectogram\n",
    "                                               nfft=None,\n",
    "                                               detrend=False)\n",
    "    \n",
    "    if spec_only:\n",
    "        return spectro.astype(np.float32)\n",
    "    else:\n",
    "        return freqs, times, spectro.astype(np.float32)"
   ]
  },
  {
   "cell_type": "markdown",
   "metadata": {},
   "source": [
    "### Angle spectrogram"
   ]
  },
  {
   "cell_type": "code",
   "execution_count": 9,
   "metadata": {},
   "outputs": [],
   "source": [
    "# get angle spectrogram\n",
    "\n",
    "def angle_spectrogram(wav,\n",
    "                    sample_rate=8000,\n",
    "                    crop=None,\n",
    "                    nfft=None,\n",
    "                    nperseg=128,\n",
    "                    noverlap=None,\n",
    "                    eps=1e-10,\n",
    "                    spec_only=True):\n",
    "    \n",
    "    # remove DC\n",
    "    wav = wav - np.mean(wav)\n",
    "    \n",
    "    # normalize length\n",
    "    wav = crop_and_pad(wav, sample_rate)\n",
    "    \n",
    "    freqs, times, spectro = signal.spectrogram(wav,\n",
    "                                               fs=sample_rate,\n",
    "                                               window='hann',\n",
    "                                               noverlap=noverlap,\n",
    "                                               nperseg=nperseg,\n",
    "                                               mode='angle', # get angle spectogram\n",
    "                                               nfft=None,\n",
    "                                               detrend=False)\n",
    "    \n",
    "    if spec_only:\n",
    "        return spectro.astype(np.float32)\n",
    "    else:\n",
    "        return freqs, times, spectro.astype(np.float32)"
   ]
  },
  {
   "cell_type": "markdown",
   "metadata": {},
   "source": [
    "### Multi spectrogram function"
   ]
  },
  {
   "cell_type": "code",
   "execution_count": 10,
   "metadata": {},
   "outputs": [],
   "source": [
    "# This function creates 3D array, containing:\n",
    "# 1 - high frequency resolution spectrogram\n",
    "# 2 - high time resolution srectrogram\n",
    "# 3 - phase spectrogram\n",
    "\n",
    "def multi_spectrogram(wav, fs):\n",
    "\n",
    "    spec = log_spectrogram(wav, sample_rate=fs, nperseg=80) # shape=(41, 114)\n",
    "    spec = spec / np.max(abs(spec))\n",
    "\n",
    "    spec_2 = log_spectrogram(wav, sample_rate=fs, nperseg=224) # shape=(113, 40)\n",
    "    spec_2 = spec_2 / np.max(abs(spec_2))\n",
    "\n",
    "    spec_3 = phase_spectrogram(wav, sample_rate=fs, nperseg=80) # shape=(41, 114)\n",
    "    spec_3 = spec_3 / np.max(abs(spec_3))\n",
    "    \n",
    "    spec_4 = angle_spectrogram(wav, sample_rate=fs, nperseg=80) # shape=(41, 114)\n",
    "    spec_4 = spec_4 / np.max(abs(spec_4))\n",
    "\n",
    "    # specs are not 100% equal in size, so crop them if needed, and then stack\n",
    "    spec_all_chan = np.stack([spec[:40,:113], spec_2.T, spec_3[:40,:113], spec_4[:40,:113]], axis=2)\n",
    "    \n",
    "    return spec_all_chan"
   ]
  },
  {
   "cell_type": "markdown",
   "metadata": {},
   "source": [
    "### Spectrogram examples"
   ]
  },
  {
   "cell_type": "code",
   "execution_count": 11,
   "metadata": {},
   "outputs": [
    {
     "data": {
      "image/png": "[encoded data removed]",
      "text/plain": [
       "<Figure size 1080x216 with 1 Axes>"
      ]
     },
     "metadata": {
      "needs_background": "light"
     },
     "output_type": "display_data"
    },
    {
     "data": {
      "image/png": "[encoded data removed]",
      "text/plain": [
       "<Figure size 1080x216 with 1 Axes>"
      ]
     },
     "metadata": {
      "needs_background": "light"
     },
     "output_type": "display_data"
    },
    {
     "data": {
      "image/png": "[encoded data removed]",
      "text/plain": [
       "<Figure size 1080x216 with 1 Axes>"
      ]
     },
     "metadata": {
      "needs_background": "light"
     },
     "output_type": "display_data"
    },
    {
     "data": {
      "image/png": "[encoded data removed]",
      "text/plain": [
       "<Figure size 1080x216 with 1 Axes>"
      ]
     },
     "metadata": {
      "needs_background": "light"
     },
     "output_type": "display_data"
    }
   ],
   "source": [
    "file = 'train/one/ch1/00961.wav'\n",
    "fs, wav = wavfile.read(file)\n",
    "\n",
    "multi_spec = multi_spectrogram(wav, fs)\n",
    "\n",
    "plt.figure(figsize=(15, 3))\n",
    "plt.title('Log spectrogram (nperseg=80, shape={})'.format(multi_spec[:,:,0].shape), fontsize=14)\n",
    "plt.imshow(multi_spec[:,:,0], origin='lower', aspect='auto')\n",
    "plt.show()\n",
    "\n",
    "plt.figure(figsize=(15, 3))\n",
    "plt.title('Log spectrogram (transposed, nperseg=224, shape={})'.format(multi_spec[:,:,1].shape), fontsize=14)\n",
    "plt.imshow(multi_spec[:,:,1], origin='lower', aspect='auto')\n",
    "plt.show()\n",
    "\n",
    "plt.figure(figsize=(15, 3))\n",
    "plt.title('Phase spectrogram (nperseg=80, shape={})'.format(multi_spec[:,:,2].shape), fontsize=14)\n",
    "plt.imshow(multi_spec[:,:,2], origin='lower', aspect='auto')\n",
    "plt.show()\n",
    "\n",
    "plt.figure(figsize=(15, 3))\n",
    "plt.title('Angle spectrogram (nperseg=80, shape={})'.format(multi_spec[:,:,3].shape), fontsize=14)\n",
    "plt.imshow(multi_spec[:,:,3], origin='lower', aspect='auto')\n",
    "plt.show()"
   ]
  },
  {
   "cell_type": "code",
   "execution_count": null,
   "metadata": {},
   "outputs": [],
   "source": []
  },
  {
   "cell_type": "markdown",
   "metadata": {},
   "source": [
    "### Get dictionary of label to filepaths"
   ]
  },
  {
   "cell_type": "code",
   "execution_count": 12,
   "metadata": {},
   "outputs": [],
   "source": [
    "# train_list[label] = [ { file_name: file_path_1, file_path_2, ... }, ... ]\n",
    "\n",
    "train_list = defaultdict(list)\n",
    "\n",
    "for path in train_paths:\n",
    "    \n",
    "    for label in label_paths:\n",
    "        \n",
    "        train_dict = defaultdict(list)\n",
    "        \n",
    "        for channel in channel_paths:\n",
    "            \n",
    "            for file in os.listdir(os.path.join(path, label, channel)):\n",
    "                \n",
    "                train_dict[file].append(os.path.join(path, label, channel, file))\n",
    "                \n",
    "        train_list[label].append(train_dict)"
   ]
  },
  {
   "cell_type": "markdown",
   "metadata": {},
   "source": [
    "### Get 4-channel file lists and corresponding labels"
   ]
  },
  {
   "cell_type": "code",
   "execution_count": 13,
   "metadata": {},
   "outputs": [
    {
     "name": "stdout",
     "output_type": "stream",
     "text": [
      "Corrupted data: 4\n"
     ]
    }
   ],
   "source": [
    "# files = [ [ ch1, ch2, ch3, ch4 ], ... ]\n",
    "# labels = [ label_1, label_2, ... ]\n",
    "\n",
    "files = []\n",
    "labels = []\n",
    "corrupt_files = 0\n",
    "\n",
    "for label in train_list:\n",
    "    \n",
    "    for dictionary in train_list[label]:\n",
    "        \n",
    "        for file_name in dictionary:\n",
    "            \n",
    "            # get list of filepaths and filesizes for all 4 channels\n",
    "            sizes = []\n",
    "            paths = []\n",
    "            \n",
    "            for file_path in dictionary[file_name]:\n",
    "                if 'wav' in file_path:\n",
    "                    size = os.stat(file_path).st_size\n",
    "                    sizes.append(size)\n",
    "                    paths.append(file_path)\n",
    "            \n",
    "            # skip filepath-list if file is missing or sample too short\n",
    "            if len(sizes) == 4 and min(sizes) >= 12114:\n",
    "                files.append(paths)\n",
    "                labels.append(label)\n",
    "            else:\n",
    "                corrupt_files += 1\n",
    "                \n",
    "print('Corrupted data:', corrupt_files)"
   ]
  },
  {
   "cell_type": "markdown",
   "metadata": {},
   "source": [
    "### Get filepaths for data to augment"
   ]
  },
  {
   "cell_type": "code",
   "execution_count": 14,
   "metadata": {},
   "outputs": [
    {
     "name": "stdout",
     "output_type": "stream",
     "text": [
      "Samples to augment: 4756\n"
     ]
    }
   ],
   "source": [
    "# not used for now\n",
    "\n",
    "files_to_augment = []\n",
    "labels_for_augment = []\n",
    "\n",
    "for file_list in files:\n",
    "\n",
    "    paths = []\n",
    "    sizes = []\n",
    "    label = file_list[0].split(sep='/')[1]\n",
    "    \n",
    "    for file in file_list:\n",
    "        \n",
    "        sizes.append(os.stat(file).st_size)\n",
    "        paths.append(file)\n",
    "    \n",
    "    if min(sizes) > 16114 and len(set(sizes)) == 1:\n",
    "        labels_for_augment.append([label, sizes[0]])\n",
    "        files_to_augment.append(paths)\n",
    "    \n",
    "print('Samples to augment:', len(files_to_augment))"
   ]
  },
  {
   "cell_type": "markdown",
   "metadata": {},
   "source": [
    "### Shuffle and split path lists"
   ]
  },
  {
   "cell_type": "code",
   "execution_count": 15,
   "metadata": {},
   "outputs": [
    {
     "name": "stdout",
     "output_type": "stream",
     "text": [
      "Train samples            4606\n",
      "Train labels             4606\n",
      "Validation samples       512\n",
      "Validation labels        512\n"
     ]
    }
   ],
   "source": [
    "RATIO = 0.9\n",
    "\n",
    "size = round(RATIO * len(files))\n",
    "\n",
    "shuff_files = []\n",
    "shuff_labels = []\n",
    "index_shuf = list(range(len(files)))\n",
    "\n",
    "shuffle(index_shuf)\n",
    "\n",
    "for i in index_shuf:\n",
    "    shuff_files.append(files[i])\n",
    "    shuff_labels.append(labels[i])\n",
    "    \n",
    "train_files = shuff_files[:size]\n",
    "valid_files = shuff_files[size:]\n",
    "\n",
    "train_labels = shuff_labels[:size]\n",
    "valid_labels = shuff_labels[size:]\n",
    "\n",
    "print('{:<25}{}'.format('Train samples', len(train_files)))\n",
    "print('{:<25}{}'.format('Train labels', len(train_labels)))\n",
    "\n",
    "print('{:<25}{}'.format('Validation samples', len(valid_files)))\n",
    "print('{:<25}{}'.format('Validation labels', len(valid_labels)))"
   ]
  },
  {
   "cell_type": "markdown",
   "metadata": {},
   "source": [
    "### Bytes feature function"
   ]
  },
  {
   "cell_type": "code",
   "execution_count": 16,
   "metadata": {},
   "outputs": [],
   "source": [
    "def bytes_feature(value):\n",
    "    return tf.train.Feature(bytes_list=tf.train.BytesList(value=[value]))"
   ]
  },
  {
   "cell_type": "markdown",
   "metadata": {},
   "source": [
    "### Create train tfrecord"
   ]
  },
  {
   "cell_type": "code",
   "execution_count": 17,
   "metadata": {
    "scrolled": true
   },
   "outputs": [],
   "source": [
    "# read files, create spectograms and enumerated labels, convert them to bytes and write to TF-record file\n",
    "\n",
    "writer = tf.python_io.TFRecordWriter(BUCKET + TFR_TRAIN)\n",
    "\n",
    "for files, label in zip(train_files, train_labels):\n",
    "    \n",
    "    multi_specs = []\n",
    "    \n",
    "    for file in files:\n",
    "\n",
    "        fs, wav = wavfile.read(file)\n",
    "        multi_spec = multi_spectrogram(wav, fs)\n",
    "        multi_specs.append(multi_spec)\n",
    "\n",
    "    stacked_multi_spec = np.concatenate(multi_specs, axis=0)\n",
    "    np_label = np.asarray([enum_labels[label]], dtype=np.int32)\n",
    "    \n",
    "    assert stacked_multi_spec.shape == SPEC_SHAPE, \\\n",
    "    'Wrong spectogram shape: expected {}, got {}'.format(SPEC_SHAPE, stacked_multi_spec.shape)\n",
    "\n",
    "    arr_raw = stacked_multi_spec.tostring()\n",
    "    label_raw = np_label.tostring()\n",
    "\n",
    "    example = tf.train.Example(features=tf.train.Features(feature={\n",
    "        'image_raw': bytes_feature(arr_raw),\n",
    "        'label': bytes_feature(label_raw)}))\n",
    "\n",
    "    writer.write(example.SerializeToString())\n",
    "\n",
    "writer.close()"
   ]
  },
  {
   "cell_type": "markdown",
   "metadata": {},
   "source": [
    "### Create validation tfrecord"
   ]
  },
  {
   "cell_type": "code",
   "execution_count": 18,
   "metadata": {},
   "outputs": [],
   "source": [
    "writer = tf.python_io.TFRecordWriter(BUCKET + TFR_VALID)\n",
    "\n",
    "for files, label in zip(valid_files, valid_labels):\n",
    "    \n",
    "    multi_specs = []\n",
    "    \n",
    "    for file in files:\n",
    "\n",
    "        fs, wav = wavfile.read(file)\n",
    "        multi_spec = multi_spectrogram(wav, fs)\n",
    "        multi_specs.append(multi_spec)\n",
    "\n",
    "    stacked_multi_spec = np.concatenate(multi_specs, axis=0)\n",
    "    np_label = np.asarray([enum_labels[label]], dtype=np.int32)\n",
    "    \n",
    "    assert stacked_multi_spec.shape == SPEC_SHAPE, \\\n",
    "    'Wrong spectogram shape: expected {}, got {}'.format(SPEC_SHAPE, stacked_multi_spec.shape)\n",
    "\n",
    "    arr_raw = stacked_multi_spec.tostring()\n",
    "    label_raw = np_label.tostring()\n",
    "\n",
    "    example = tf.train.Example(features=tf.train.Features(feature={\n",
    "        'image_raw': bytes_feature(arr_raw),\n",
    "        'label': bytes_feature(label_raw)}))\n",
    "\n",
    "    writer.write(example.SerializeToString())\n",
    "\n",
    "writer.close()"
   ]
  },
  {
   "cell_type": "markdown",
   "metadata": {},
   "source": [
    "### TF-Record parsers"
   ]
  },
  {
   "cell_type": "code",
   "execution_count": 19,
   "metadata": {},
   "outputs": [],
   "source": [
    "def parser(serialized_example):\n",
    "\n",
    "    features = tf.parse_single_example(\n",
    "        serialized_example,\n",
    "        features={\n",
    "            'image_raw': tf.FixedLenFeature([], tf.string),\n",
    "            'label': tf.FixedLenFeature([], tf.string)})\n",
    "\n",
    "    image = tf.decode_raw(features['image_raw'], tf.float32)\n",
    "    image.set_shape([IMG_HEIGHT * IMG_WIDTH * IMG_CHAN])\n",
    "\n",
    "    label = tf.decode_raw(features['label'], tf.int32)\n",
    "    label.set_shape([1])\n",
    "\n",
    "    return image, label"
   ]
  },
  {
   "cell_type": "code",
   "execution_count": 20,
   "metadata": {},
   "outputs": [],
   "source": [
    "def test_parser(serialized_example):\n",
    "\n",
    "    features = tf.parse_single_example(\n",
    "        serialized_example,\n",
    "        features={'image_raw': tf.FixedLenFeature([], tf.string),\n",
    "                  'image_id': tf.FixedLenFeature([], tf.string)})\n",
    "\n",
    "    image = tf.decode_raw(features['image_raw'], tf.float32)\n",
    "    image.set_shape([IMG_HEIGHT * IMG_WIDTH * IMG_CHAN])\n",
    "\n",
    "    return image"
   ]
  },
  {
   "cell_type": "markdown",
   "metadata": {},
   "source": [
    "### Input functions"
   ]
  },
  {
   "cell_type": "code",
   "execution_count": 21,
   "metadata": {},
   "outputs": [],
   "source": [
    "def train_input_fn():\n",
    "\n",
    "    # get dataset from tf_record\n",
    "    dataset = tf.data.TFRecordDataset(BUCKET + TFR_TRAIN)\n",
    "\n",
    "    # map parser over dataset samples\n",
    "    dataset = dataset.map(parser)\n",
    "    dataset = dataset.shuffle(1000)\n",
    "    dataset = dataset.batch(BATCH_SIZE)\n",
    "    dataset = dataset.repeat(1)\n",
    "    iterator = dataset.make_one_shot_iterator()\n",
    "\n",
    "    features, labels = iterator.get_next()\n",
    "\n",
    "    return features, labels"
   ]
  },
  {
   "cell_type": "code",
   "execution_count": 22,
   "metadata": {},
   "outputs": [],
   "source": [
    "def eval_input_fn():\n",
    "\n",
    "    # get dataset from tf_record\n",
    "    dataset = tf.data.TFRecordDataset(BUCKET + TFR_TRAIN)\n",
    "\n",
    "    # map parser over dataset samples\n",
    "    dataset = dataset.map(parser)\n",
    "    dataset = dataset.batch(BATCH_SIZE)\n",
    "    dataset = dataset.repeat(1)\n",
    "    iterator = dataset.make_one_shot_iterator()\n",
    "\n",
    "    features, labels = iterator.get_next()\n",
    "\n",
    "    return features, labels"
   ]
  },
  {
   "cell_type": "code",
   "execution_count": 23,
   "metadata": {},
   "outputs": [],
   "source": [
    "def valid_input_fn():\n",
    "\n",
    "    # get dataset from tf_record\n",
    "    dataset = tf.data.TFRecordDataset(BUCKET + TFR_VALID)\n",
    "\n",
    "    # map parser over dataset samples\n",
    "    dataset = dataset.map(parser)\n",
    "    dataset = dataset.batch(BATCH_SIZE)\n",
    "    dataset = dataset.repeat(1)\n",
    "    iterator = dataset.make_one_shot_iterator()\n",
    "\n",
    "    features, labels = iterator.get_next()\n",
    "\n",
    "    return features, labels"
   ]
  },
  {
   "cell_type": "code",
   "execution_count": 24,
   "metadata": {},
   "outputs": [],
   "source": [
    "def predict_input_fn():\n",
    "\n",
    "    # get dataset from tf_record\n",
    "    dataset = tf.data.TFRecordDataset(BUCKET + TFR_TEST)\n",
    "\n",
    "    # map parser over dataset samples\n",
    "    dataset = dataset.map(test_parser)\n",
    "    dataset = dataset.batch(1)\n",
    "    dataset = dataset.repeat(1)\n",
    "    iterator = dataset.make_one_shot_iterator()\n",
    "\n",
    "    features = iterator.get_next()\n",
    "\n",
    "    return features"
   ]
  },
  {
   "cell_type": "markdown",
   "metadata": {},
   "source": [
    "### CNN model"
   ]
  },
  {
   "cell_type": "markdown",
   "metadata": {},
   "source": [
    "#### CNN branch"
   ]
  },
  {
   "cell_type": "code",
   "execution_count": 25,
   "metadata": {},
   "outputs": [],
   "source": [
    "# convolve through each layer separately\n",
    "\n",
    "def cnn_branch(in_1, in_2, in_3, in_4, is_train):\n",
    "    \n",
    "    # define arguments for layers\n",
    "    kerner_init = None\n",
    "    \n",
    "    conv_params_1 = {\n",
    "        'filters': 8,\n",
    "        'kernel_size': [5, 3],\n",
    "        'strides': 1,\n",
    "        'kernel_initializer': kerner_init,\n",
    "        'padding': 'same'}\n",
    "    \n",
    "    conv_params_2 = {\n",
    "        'filters': 32,\n",
    "        'kernel_size': [3, 3],\n",
    "        'strides': 1,\n",
    "        'kernel_initializer': kerner_init,\n",
    "        'padding': 'same',\n",
    "        'activation': tf.nn.relu}\n",
    "    \n",
    "    conv_params_3 = {\n",
    "        'filters': 64,\n",
    "        'kernel_size': [3, 3],\n",
    "        'strides': 1,\n",
    "        'kernel_initializer': kerner_init,\n",
    "        'padding': 'same',\n",
    "        'activation': tf.nn.relu}\n",
    "    \n",
    "    pool_params = {\n",
    "        'pool_size': [2, 2],\n",
    "        'strides': [2, 2],\n",
    "        'padding': 'same'}\n",
    "    \n",
    "    dense_params_1 = {\n",
    "        'units': 512,\n",
    "        'activation': tf.nn.relu}\n",
    "    \n",
    "    dense_params_2 = {\n",
    "        'units': 128,\n",
    "        'activation': tf.nn.relu}\n",
    "    \n",
    "    w_1a = tf.Variable(0.25)\n",
    "    w_1b = tf.Variable(0.25)\n",
    "    w_1c = tf.Variable(0.25)\n",
    "    w_1d = tf.Variable(0.25)\n",
    "    \n",
    "    # define layers\n",
    "    conv_1a = tf.layers.conv2d(inputs=in_1, **conv_params_1)\n",
    "    conv_1b = tf.layers.conv2d(inputs=in_2, **conv_params_1)\n",
    "    conv_1c = tf.layers.conv2d(inputs=in_3, **conv_params_1)\n",
    "    conv_1d = tf.layers.conv2d(inputs=in_4, **conv_params_1)\n",
    "    \n",
    "    pool_1a = tf.layers.max_pooling2d(inputs=conv_1a, **pool_params)\n",
    "    pool_1b = tf.layers.max_pooling2d(inputs=conv_1b, **pool_params)\n",
    "    pool_1c = tf.layers.max_pooling2d(inputs=conv_1c, **pool_params)\n",
    "    pool_1d = tf.layers.max_pooling2d(inputs=conv_1d, **pool_params)\n",
    "    \n",
    "    mix_1 = tf.add_n([pool_1a * w_1a,\n",
    "                      pool_1b * w_1b,\n",
    "                      pool_1c * w_1c,\n",
    "                      pool_1d * w_1d])\n",
    "    \n",
    "    conv_2 = tf.layers.conv2d(inputs=mix_1, **conv_params_2)\n",
    "    pool_2 = tf.layers.max_pooling2d(inputs=conv_2, **pool_params)\n",
    "    \n",
    "    conv_3 = tf.layers.conv2d(inputs=pool_2, **conv_params_3)\n",
    "    pool_3 = tf.layers.max_pooling2d(inputs=conv_3, **pool_params)\n",
    "    \n",
    "    dropout = tf.layers.dropout(inputs=pool_3, rate=0.2, training=is_train)\n",
    "    \n",
    "    reshape = tf.layers.flatten(dropout)\n",
    "\n",
    "    dense = tf.layers.dense(inputs=reshape, **dense_params_1)\n",
    "    dense_2 = tf.layers.dense(inputs=dense, **dense_params_2)\n",
    "\n",
    "    out = tf.layers.dense(inputs=dense_2, units=NUM_CLASSES)\n",
    "    \n",
    "    return out"
   ]
  },
  {
   "cell_type": "markdown",
   "metadata": {},
   "source": [
    "#### CNN main"
   ]
  },
  {
   "cell_type": "code",
   "execution_count": 26,
   "metadata": {},
   "outputs": [],
   "source": [
    "# split image by channels to convolve through these channels separately\n",
    "\n",
    "def cnn_model_fn(features, labels, mode):\n",
    "        \n",
    "    is_train = False\n",
    "    if mode == tf.estimator.ModeKeys.TRAIN:\n",
    "        is_train = True\n",
    "    \n",
    "    # reshape flat input to original image shape and split image by layers\n",
    "    input_layer = tf.reshape(features, [-1, IMG_HEIGHT, IMG_WIDTH, IMG_CHAN], name='inputs')\n",
    "    in_1, in_2, in_3, in_4 = tf.split(input_layer, num_or_size_splits=4, axis=3)\n",
    "    \n",
    "    # get tensor with shape=(batch_size, NUM_CLASSES)\n",
    "    out = cnn_branch(in_1, in_2, in_3, in_4, is_train)\n",
    "    \n",
    "    logits = tf.nn.softmax(out, axis=1)\n",
    "    \n",
    "    # in predict mode, also return logits per layer\n",
    "    predictions = {\n",
    "        'classes': tf.argmax(logits, axis=1),\n",
    "        'probabilities': logits}\n",
    "\n",
    "    # for Cloud ML serving model\n",
    "    serving_output = tf.estimator.export.ClassificationOutput(scores=predictions['probabilities'])\n",
    "    \n",
    "    if mode == tf.estimator.ModeKeys.PREDICT:\n",
    "        return tf.estimator.EstimatorSpec(mode=mode,\n",
    "                                          predictions=predictions,\n",
    "                                          export_outputs={'output': serving_output})\n",
    "\n",
    "    # calculate loss and acc\n",
    "    loss = tf.losses.sparse_softmax_cross_entropy(\n",
    "        labels=labels,\n",
    "        logits=logits)\n",
    "    \n",
    "    acc = tf.metrics.accuracy(\n",
    "        labels=labels,\n",
    "        predictions=tf.argmax(logits, axis=1))\n",
    "\n",
    "    if mode == tf.estimator.ModeKeys.TRAIN:\n",
    "        \n",
    "        train_optimizer = tf.train.AdamOptimizer(learning_rate=LR).minimize(\n",
    "            loss=loss,\n",
    "            global_step=tf.train.get_global_step())\n",
    "        return tf.estimator.EstimatorSpec(mode=mode, loss=loss, train_op=train_optimizer)\n",
    "\n",
    "    # eval mode\n",
    "    eval_metric_ops = {'acc': acc}\n",
    "\n",
    "    return tf.estimator.EstimatorSpec(mode=mode, loss=loss, eval_metric_ops=eval_metric_ops)"
   ]
  },
  {
   "cell_type": "markdown",
   "metadata": {},
   "source": [
    "### Train function"
   ]
  },
  {
   "cell_type": "code",
   "execution_count": 27,
   "metadata": {},
   "outputs": [],
   "source": [
    "def train_and_evaluate(estimator, epochs=1):\n",
    "\n",
    "    all_train_log = []\n",
    "    all_valid_log = []\n",
    "\n",
    "    for epoch in range(epochs):\n",
    "\n",
    "        estimator.train(input_fn=train_input_fn)\n",
    "\n",
    "        train_log = estimator.evaluate(input_fn=eval_input_fn)\n",
    "        print('epoch: {} of {}'.format(epoch + 1, epochs))\n",
    "        print('train: acc = {:.3f}, loss = {:.3f}'.format(train_log['acc'], train_log['loss']))\n",
    "        \n",
    "        valid_log = estimator.evaluate(input_fn=valid_input_fn)\n",
    "        print('valid: acc = {:.3f}, loss = {:.3f}'.format(valid_log['acc'], valid_log['loss']))\n",
    "        \n",
    "        all_train_log.append(train_log)\n",
    "        all_valid_log.append(valid_log)\n",
    "\n",
    "    return all_train_log, all_valid_log"
   ]
  },
  {
   "cell_type": "markdown",
   "metadata": {},
   "source": [
    "### Classifier"
   ]
  },
  {
   "cell_type": "code",
   "execution_count": 36,
   "metadata": {},
   "outputs": [],
   "source": [
    "OUTDIR = BUCKET + 'output_for_testing_12'\n",
    "BATCH_SIZE = 10\n",
    "EPOCHS = 1\n",
    "LR = 0.001\n",
    "\n",
    "cnn_classifier = tf.estimator.Estimator(model_fn=cnn_model_fn, model_dir=OUTDIR)"
   ]
  },
  {
   "cell_type": "markdown",
   "metadata": {},
   "source": [
    "### Train"
   ]
  },
  {
   "cell_type": "code",
   "execution_count": 42,
   "metadata": {
    "scrolled": false
   },
   "outputs": [
    {
     "name": "stdout",
     "output_type": "stream",
     "text": [
      "epoch: 1 of 1\n",
      "train: acc = 0.956, loss = 0.356\n",
      "valid: acc = 0.926, loss = 0.385\n",
      "\n",
      "Time spent: 2 min\n"
     ]
    }
   ],
   "source": [
    "start = timeit.default_timer()\n",
    "\n",
    "train_log, valid_log = train_and_evaluate(cnn_classifier, epochs=EPOCHS)\n",
    "\n",
    "end = timeit.default_timer()\n",
    "print('\\nTime spent:', round((end - start) / 60) , 'min')"
   ]
  },
  {
   "cell_type": "markdown",
   "metadata": {},
   "source": [
    "### Get test data"
   ]
  },
  {
   "cell_type": "code",
   "execution_count": 30,
   "metadata": {},
   "outputs": [],
   "source": [
    "test_files = defaultdict(list)\n",
    "\n",
    "for folder in os.listdir(test_path):\n",
    "    for file in os.listdir(os.path.join(test_path, folder)):\n",
    "        test_files[folder].append(os.path.join(test_path, folder, file))\n",
    "    test_files[folder].sort()"
   ]
  },
  {
   "cell_type": "markdown",
   "metadata": {},
   "source": [
    "### Create test tfrecord file"
   ]
  },
  {
   "cell_type": "code",
   "execution_count": 31,
   "metadata": {
    "scrolled": true
   },
   "outputs": [],
   "source": [
    "folder_labels = []\n",
    "\n",
    "writer = tf.python_io.TFRecordWriter(BUCKET + TFR_TEST)\n",
    "\n",
    "for folder in test_files:\n",
    "    \n",
    "    multi_specs = []\n",
    "    \n",
    "    for file in test_files[folder]:\n",
    "\n",
    "        fs, wav = wavfile.read(file)\n",
    "        multi_spec = multi_spectrogram(wav, fs)\n",
    "        multi_specs.append(multi_spec)\n",
    "\n",
    "    stacked_multi_spec = np.concatenate(multi_specs, axis=0)\n",
    "    \n",
    "    folder_labels.append(folder)\n",
    "    \n",
    "    assert stacked_multi_spec.shape == SPEC_SHAPE, \\\n",
    "    'Wrong spectogram shape: expected {}, got {}'.format(SPEC_SHAPE, stacked_multi_spec.shape)\n",
    "\n",
    "    arr_raw = stacked_multi_spec.tostring()\n",
    "    label_raw = bytes(folder, 'utf-8')\n",
    "\n",
    "    example = tf.train.Example(features=tf.train.Features(feature={\n",
    "        'image_raw': bytes_feature(arr_raw),\n",
    "        'image_id': bytes_feature(label_raw)}))\n",
    "\n",
    "    writer.write(example.SerializeToString())\n",
    "\n",
    "writer.close()"
   ]
  },
  {
   "cell_type": "markdown",
   "metadata": {},
   "source": [
    "### Predict"
   ]
  },
  {
   "cell_type": "code",
   "execution_count": 43,
   "metadata": {
    "scrolled": false
   },
   "outputs": [
    {
     "name": "stdout",
     "output_type": "stream",
     "text": [
      "Time spent: 0 min\n"
     ]
    }
   ],
   "source": [
    "# get predictions: probs, predicted classes and list of 3 logit arrays\n",
    "\n",
    "start = timeit.default_timer()\n",
    "\n",
    "predict_generator = cnn_classifier.predict(input_fn=predict_input_fn)\n",
    "\n",
    "predict_list = []\n",
    "predict_dictlist = []\n",
    "\n",
    "while True:\n",
    "    item = next(predict_generator, None)\n",
    "    if item == None:\n",
    "        break\n",
    "    predict_dictlist.append(item)\n",
    "    \n",
    "for i in range(len(predict_dictlist)):\n",
    "    \n",
    "    cur = predict_dictlist[i]\n",
    "    \n",
    "    prob = list(cur['probabilities'])\n",
    "    class_ = cur['classes']\n",
    "    \n",
    "    predict_list.append((folder_labels[i], class_, prob))\n",
    "\n",
    "end = timeit.default_timer()\n",
    "\n",
    "print('Time spent:', round((end - start) / 60) , 'min')"
   ]
  },
  {
   "cell_type": "markdown",
   "metadata": {},
   "source": [
    "### Explore predictions"
   ]
  },
  {
   "cell_type": "code",
   "execution_count": 44,
   "metadata": {},
   "outputs": [
    {
     "name": "stdout",
     "output_type": "stream",
     "text": [
      "Low probs: 2\n"
     ]
    }
   ],
   "source": [
    "# calculate number of cases where none of the logits is accurate (lower than 65%)\n",
    "\n",
    "logits = [prob for (folder_label, class_, prob) in predict_list]\n",
    "\n",
    "def softmax(x, axis=None):\n",
    "    x = x - x.max(axis=axis, keepdims=True)\n",
    "    y = np.exp(x)\n",
    "    return y / y.sum(axis=axis, keepdims=True)\n",
    "\n",
    "low_probs = []\n",
    "\n",
    "for logit in logits:\n",
    "    if np.max(logit) < 0.65:\n",
    "        low_probs.append(logit)\n",
    "        \n",
    "print('Low probs:', len(low_probs))"
   ]
  },
  {
   "cell_type": "code",
   "execution_count": 45,
   "metadata": {},
   "outputs": [
    {
     "name": "stdout",
     "output_type": "stream",
     "text": [
      "Accuracy on test data:\n",
      "\n",
      "overall_acc = 0.966\n"
     ]
    }
   ],
   "source": [
    "# calculate accuracy on test data (unknown data)\n",
    "\n",
    "test_labels = pd.read_csv('test_key.csv')\n",
    "\n",
    "test_ids = list(test_labels['fileName'])\n",
    "test_classes = list(test_labels['label'])\n",
    "\n",
    "test_class_dict = dict()\n",
    "\n",
    "for img_id, label in zip(test_ids, test_classes):\n",
    "    test_class_dict.update({img_id: label})\n",
    "\n",
    "expect_labels = [test_class_dict[text] - 1 for text in folder_labels]\n",
    "predict_classes = [class_ for (folder_label, class_, prob) in predict_list]\n",
    "\n",
    "acc = np.sum(np.array(expect_labels) == np.array(predict_classes)) / len(predict_classes)\n",
    "\n",
    "print('Accuracy on test data:\\n')\n",
    "print('overall_acc = {:.3f}'.format(acc))"
   ]
  },
  {
   "cell_type": "code",
   "execution_count": 46,
   "metadata": {},
   "outputs": [
    {
     "name": "stdout",
     "output_type": "stream",
     "text": [
      "Max and min mean probs:\n",
      "\n",
      "logit: [0.99503648 0.00496352]\n"
     ]
    }
   ],
   "source": [
    "print('Max and min mean probs:\\n')\n",
    "\n",
    "mean_probs = [\n",
    "    (max(prob) / len(logits), min(prob) / len(logits)) for prob in logits]\n",
    "print('logit:', np.sum(mean_probs, axis=0))"
   ]
  },
  {
   "cell_type": "code",
   "execution_count": null,
   "metadata": {},
   "outputs": [],
   "source": []
  }
 ],
 "metadata": {
  "kernelspec": {
   "display_name": "Python 3",
   "language": "python",
   "name": "python3"
  },
  "language_info": {
   "codemirror_mode": {
    "name": "ipython",
    "version": 3
   },
   "file_extension": ".py",
   "mimetype": "text/x-python",
   "name": "python",
   "nbconvert_exporter": "python",
   "pygments_lexer": "ipython3",
   "version": "3.6.6"
  }
 },
 "nbformat": 4,
 "nbformat_minor": 2
}
